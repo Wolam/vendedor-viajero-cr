{
 "cells": [
  {
   "cell_type": "markdown",
   "metadata": {},
   "source": [
    "# Solución Proyecto 2"
   ]
  },
  {
   "cell_type": "markdown",
   "metadata": {},
   "source": [
    "## Problema"
   ]
  },
  {
   "cell_type": "markdown",
   "metadata": {},
   "source": [
    "Nuestro problema a resolver se divide básicamente de tres preguntas, las cuales se van a analizar y responder mediante la programamación de principalmente dos algoritmos, que en concreto son el simulated annealing y el algoritmo genético, además se va a proceder a desarrollar una investigación empírica para poder comparar dichos algoritmos y analizar sus resultados. A continuación las preguntas del proyecto de investigación a resolver:"
   ]
  },
  {
   "cell_type": "markdown",
   "metadata": {},
   "source": [
    "¿Cómo se compara el desempeño del algoritmo\n",
    "simulated annealing con el desempeño del algoritmo genético en la resolución del\n",
    "problema del vendedor viajero para 17 localidades en Costa Rica?."
   ]
  },
  {
   "cell_type": "markdown",
   "metadata": {},
   "source": [
    "¿Cuál es la configuración de parámetros recomendada para resolver el\n",
    "problema con el algoritmo simulated annealing? ¿Por qué?."
   ]
  },
  {
   "cell_type": "markdown",
   "metadata": {},
   "source": [
    "¿Cuál es la configuración de parámetros recomendada para resolver el\n",
    "problema con el algoritmo genético? ¿Por qué?."
   ]
  },
  {
   "cell_type": "markdown",
   "metadata": {},
   "source": [
    "Estos dos algoritmos serán sometidos a pruebas y experimentos, para poder analizar sus tiempos de ejecución y como hacen su tarea de desarrollar correctamente las soluciones del problema del vendedor viajero, con esto dar a conocer los resultados y poder analizarlos. Sin embargo, se deberá investigar y probar distintos parámetros, para conocer cuales serían los óptimos para la elaboración de estos algoritmos, y que dichas soluciones sean válidas."
   ]
  },
  {
   "cell_type": "markdown",
   "metadata": {},
   "source": [
    "## Hipótesis"
   ]
  },
  {
   "cell_type": "markdown",
   "metadata": {},
   "source": [
    "Una de las hipótesis plantedas sobre cual algoritmo tendría mejor desempeño, es que va a depender de lo que se plantee o se necesite para solucionar el problema, pero en este caso específico posiblemente el simulated annealing tenga un tiempo de ejecución menor, porque devuelve únicamente una solución, mientras que el algoritmo genético puede que devuelva una o más soluciones dependiendo del tamaño de la población que maneje."
   ]
  },
  {
   "cell_type": "markdown",
   "metadata": {},
   "source": [
    "En cuanto a efectividad, tal vez el genético sea el mejor para esto, porque realmente puede haber más de una solución al problema, que en este caso es recorrer la menor distancia entre las ciudades de nuestro país."
   ]
  },
  {
   "cell_type": "markdown",
   "metadata": {},
   "source": [
    "La temperatura como parámetro en el simulated annealing se cree que a mayor sea, se espera un buen costo de ruta. En cuanto al parámetro específicamente de la tasa de enfriamiento en el simulated annealing, puede que cuanto más se acerque a uno, la solución sea óptima, pero tarde más. \n",
    "\n",
    "En el caso del genético puede que suceda algo similar con el porcentaje de mutación, se cree que entre menos sea el porcentaje de mutacion, resultados o poblaciones más acertadas van a obtenerse."
   ]
  },
  {
   "cell_type": "markdown",
   "metadata": {},
   "source": [
    "Se tiene la hipotesís de que los parámetros en ambos algoritmos deben tener un balance para que la solución sea óptima, es decir en el caso de annealing que si presenta poca temperatura y mucha tasa de enfriamiento puede que el algoritmo se tome su tiempo y no sea tan efica, debido a que la temperatura se está multiplicando prácticamente por uno en el algoritmo. En el caso del genético que la población inicial y porcentajes de mutación estén ajustados con muy poca población y muy alto porcentaje respectivamente, lo que causaría que el algoritmo sea menos eficiente."
   ]
  },
  {
   "cell_type": "markdown",
   "metadata": {},
   "source": [
    "Lo mencionado anteriormente se podría denotar como las siguientes casos:\n",
    "\n",
    "En el caso del algoritmo annealing, suponiendo que $T(t) = t_{e} \\times t$ es la función para enfriar y ejecutar el ciclo principal del algoritmo, en donde $t$ es una temperatura arbitraria preferiblemente alta para conseguir mejores resultados y $t_{e}$ es una tasa de enfriamento ajustada.\n",
    "\n",
    "*  $T(t) \\to \\infty  \\text{  si  }  t \\to \\infty  \\wedge  t_{e} \\to 1 $\n",
    "  \n",
    "*  $T(t) \\to 0  \\text{  si  } t  \\to 0 \\vee t_{e} \\to 0 $\n",
    "  \n"
   ]
  },
  {
   "cell_type": "markdown",
   "metadata": {},
   "source": [
    "## Metodología"
   ]
  },
  {
   "cell_type": "markdown",
   "metadata": {},
   "source": [
    "El proceso a seguir para lo que es la experimentación y sucesivamente lograr el análisis de datos, será similar a lo realizado en los algoritmos de ordenamiento. El lenguaje de programación sera *Python 3*\n",
    ", las pruebas del `simulated_anneling.py` se correran en computadoras diferentes al igual que el  `algoritmo_genetico.py`.\n",
    "\n",
    "Especificaciones de computadoras a correr el simulated annealing: \n",
    "\n",
    "|Computadora                      |Pc1   |Pc2  |\n",
    "|-----------------------|:----:|----:|\n",
    "|Memoria                |M.2 2280 SSD is PCIe 3x4  |500GB ATA Disk|\n",
    "|Procesador             |Intel®️ Core™️ i5-8265U CPU @ 1.60GHz × 8|Intel®️ Core™️ i5-3320M CPU @ 2.60GHz|\n",
    "|RAM                    |8GB 2400MHz DDR4|8GB SODIMM 1600 MHz DDR3|\n",
    "|S.O                    |Ubuntu 18.04.4 LTS|Ubuntu 20.04.1 LTS|"
   ]
  },
  {
   "cell_type": "markdown",
   "metadata": {},
   "source": [
    "Especificaciones de computadoras a correr el algoritmo genético:\n",
    "\n",
    "|Computadora                      |Pc1   |Pc2  |\n",
    "|-----------------------|:----:|----:|\n",
    "|Memoria                | 750GB HDD | 256 GB SSD - (M.2 2280) SATA|\n",
    "|Procesador             | Intel® Core™ i5-4200M CPU @ 2.50GHz × 4| Intel®️ Core™️ i7-7820HQ CPU @ 2.90GHz × 8 |\n",
    "|RAM                    | 10GB 1600MHZ DDR3| 8GB 2400MHz DDR4 |\n",
    "|S.O                    | Ubuntu 19.10| Ubuntu 18.04.4 LTS |\n",
    "\n",
    "\n",
    "El algoritmo `simulated_anneling.py` tendrá pruebas enfocadas a lo que es costo de las soluciones que brinda según la `ciudad_de_inicio`, dichas pruebas tendrán una representación en forma de tablas. Se plantea tomar los datos enfocados al tiempo de ejecución del algoritmo y con ellos brindar que soluciones se demoran más y cuales son los costos iniciales y finales de las soluciones, tomando en cuenta a su vez los parámetros correctos.\n",
    "Para la toma de tiempos, se tiene en mente importar la biblioteca `time` y tomar un tiempo de inicio y final.\n",
    "\n",
    "De igual manera `algoritmo_genetico.py` va a tener pruebas enfocadas al costo de las soluciones e igualmente tomar el tiempo de ejecución de inicio a fin para verficar cual solución toma más tiempo en completarse.\n",
    "\n",
    "Para la segunda prueba, se contaran las iteraciones dentro del de ambos algoritmos, con el objetivo de mediante la biblioteca `matplotlib`, graficar los costos de las soluciones junto a su iteración correspondiente.\n",
    "Se debe tomar en cuenta que los resultados deben ser reproducibles por lo que se harán pruebas basadas en `seed()` de la biblioteca `random` para con ello tomar las mismas secuencias pseudoaleatorias de soluciones."
   ]
  },
  {
   "cell_type": "markdown",
   "metadata": {},
   "source": [
    "## Análisis de Resultados\n",
    "\n",
    "![sim_annealing](https://upload.wikimedia.org/wikipedia/commons/d/d5/Hill_Climbing_with_Simulated_Annealing.gif)\n",
    "**Imagen brindada por:** https://commons.wikimedia.org/wiki/File:Hill_Climbing_with_Simulated_Annealing.gif \n",
    "\n",
    "### Simulated Annealing\n",
    "\n",
    "\n",
    "#### Experimentación con tablas\n",
    "\n",
    "Dentro de las pruebas realizadas al `simulated_anneling.py` se procederá primero a tomar en cuenta las diferencias ente costos iniciales y  finales de todas las ciudades presentes en la matriz de `datos/ciudades_cr.csv`. Para ello se utiliza dos funciones que permitan la prueba. Cabe destacar que los datos son mostrados en pantalla sin embargo se toma en cuenta por la `seed(42)` siempre seran los mismos resultados por que las tablas se muestran en formato Markdown y no en un output de python."
   ]
  },
  {
   "cell_type": "code",
   "execution_count": 1,
   "metadata": {},
   "outputs": [],
   "source": [
    "from time import time as tiempo_actual\n",
    "from random import seed"
   ]
  },
  {
   "cell_type": "code",
   "execution_count": 2,
   "metadata": {},
   "outputs": [],
   "source": [
    "import dominio_tsp\n",
    "from simulated_annealing import optimizar\n",
    "\n",
    "def actualizar_dominio(dominio,ciudad_inicio_nueva,i_inicio_nuevo):\n",
    "    dominio.nombre_ciudad_inicio = ciudad_inicio_nueva\n",
    "    dominio.i_ciudad_inicio=i_inicio_nuevo\n",
    "\n",
    "def iniciar_prueba(temp = 10e3, tasa_enfriamiento = 0.95):\n",
    "    #print('| Ciudad   | Costo Inicial | Costo Final   |   Dif   |    Tiempo(sec)    |')\n",
    "    #print('|----------|---------------|---------------|---------|-------------------|')\n",
    "    suma_dif = 0\n",
    "    for i_ciudad in __dominio_pruebas.i_ciudades.values():\n",
    "        ciudad_inicio_nueva = __dominio_pruebas.ciudades[i_ciudad]['km/min']\n",
    "        actualizar_dominio(__dominio_pruebas,ciudad_inicio_nueva,i_ciudad)\n",
    "        seed(42) #obtener reproducibilidad de resultados\n",
    "        tiempo_inicio = tiempo_actual() \n",
    "        sol_final,datos = optimizar(__dominio_pruebas,temp=temp,tasa_enfriamiento=tasa_enfriamiento,testeo=True)\n",
    "        tiempo_transcurrido = tiempo_actual() - tiempo_inicio\n",
    "        sol_inicial = datos['Solucion inicial']\n",
    "        costo_final,costo_inicial = __dominio_pruebas.fcosto(sol_final), __dominio_pruebas.fcosto(sol_inicial)\n",
    "        dif = costo_inicial / costo_final * 100 - 100\n",
    "        suma_dif += dif\n",
    "        #print('| %s | %.2f | %.2f | %.3f%% | %.6f |' % (ciudad_inicio_nueva, costo_inicial, costo_final, dif, tiempo_transcurrido))\n",
    "    prom_dif =suma_dif/__dominio_pruebas.n_ciudades\n",
    "    #print('|**Promedio diferencias**|||{}%||'.format(prom_dif))\n",
    "    \n",
    "__dominio_pruebas = dominio_tsp.DominioTSP(\"datos/ciudades_cr.csv\",\"San José\")"
   ]
  },
  {
   "cell_type": "code",
   "execution_count": 3,
   "metadata": {},
   "outputs": [],
   "source": [
    "iniciar_prueba(temp = 10e3, tasa_enfriamiento = 0.95)"
   ]
  },
  {
   "cell_type": "markdown",
   "metadata": {},
   "source": [
    "La primera ejecución consta de llamar al algoritmo con una tasa de enfriamento al 5%, los resultados fueron representados por medio de la siguiente tabla.\n",
    "\n",
    "\n",
    "| Ciudad   | Costo Inicial | Costo Final   |   Dif   |    Tiempo(sec)    |\n",
    "|----------|---------------|---------------|---------|-------------------|\n",
    "| Liberia | 3449.40 | 2316.70 | 48.893% | 0.004230 |\n",
    "| Santa Cruz | 3452.40 | 2375.60 | 45.327% | 0.004242 |\n",
    "| Nicoya | 3449.40 | 2252.10 | 53.164% | 0.003221 |\n",
    "| Ciudad Quesada | 3243.00 | 2007.30 | 61.560% | 0.002947 |\n",
    "| Alajuela | 3104.20 | 2042.10 | 52.010% | 0.002637 |\n",
    "| Heredia | 3130.80 | 1915.00 | 63.488% | 0.002459 |\n",
    "| Puerto Viejo Sarapiquí | 3015.70 | 1991.50 | 51.429% | 0.002325 |\n",
    "| San José | 3014.90 | 1971.20 | 52.947% | 0.002178 |\n",
    "| San Isidro del General | 3279.10 | 2268.70 | 44.537% | 0.002467 |\n",
    "| Puntarenas | 3268.10 | 1899.40 | 72.060% | 0.002322 |\n",
    "| Quepos | 3309.40 | 1753.40 | 88.742% | 0.002183 |\n",
    "| Golfito | 3341.40 | 1896.90 | 76.151% | 0.002138 |\n",
    "| Cartago | 3224.10 | 2059.60 | 56.540% | 0.002316 |\n",
    "| Turrialba | 3326.10 | 1904.60 | 74.635% | 0.002298 |\n",
    "| Guápiles | 3233.10 | 2030.30 | 59.242% | 0.002186 |\n",
    "| Limón | 3250.00 | 1900.00 | 71.053% | 0.002115 |\n",
    "| Puerto Viejo Talamanca | 3252.00 | 1897.40 | 71.392% | 0.003626 |\n",
    "|**Promedio diferencias** || |  **61.36%**  |  |\n"
   ]
  },
  {
   "cell_type": "code",
   "execution_count": 4,
   "metadata": {},
   "outputs": [],
   "source": [
    "iniciar_prueba(temp = 10e3, tasa_enfriamiento = 0.9999)"
   ]
  },
  {
   "cell_type": "markdown",
   "metadata": {},
   "source": [
    "La segunda ejecución el algoritmo se somete una tasa de enfriamento al `0.0001%`, los resultados se basaron al tomar en cuenta la misma temperatura de $10^3$ que el experimento pasado.\n",
    "\n",
    "| Ciudad   | Costo Inicial | Costo Final   |   Dif   |    Tiempo(sec)    |\n",
    "|----------|---------------|---------------|---------|-------------------|\n",
    "| Liberia | 3449.40 | 1618.20 | 113.163% | 1.111654 |\n",
    "| Santa Cruz | 3452.40 | 1647.40 | 109.567% | 1.198924 |\n",
    "| Nicoya | 3449.40 | 1646.20 | 109.537% | 1.146725 |\n",
    "| Ciudad Quesada | 3243.00 | 1604.50 | 102.119% | 1.164425 |\n",
    "| Alajuela | 3104.20 | 1604.50 | 93.468% | 1.185354 |\n",
    "| Heredia | 3130.80 | 1670.40 | 87.428% | 1.151906 |\n",
    "| Puerto Viejo Sarapiquí | 3015.70 | 1753.00 | 72.031% | 1.181244 |\n",
    "| San José | 3014.90 | 1688.10 | 78.597% | 1.161678 |\n",
    "| San Isidro del General | 3279.10 | 1623.60 | 101.965% | 1.198542 |\n",
    "| Puntarenas | 3268.10 | 1744.40 | 87.348% | 1.251195 |\n",
    "| Quepos | 3309.40 | 1632.40 | 102.732% | 1.220689 |\n",
    "| Golfito | 3341.40 | 1674.60 | 99.534% | 1.187353 |\n",
    "| Cartago | 3224.10 | 1699.20 | 89.742% | 1.177623 |\n",
    "| Turrialba | 3326.10 | 1652.80 | 101.240% | 1.110987 |\n",
    "| Guápiles | 3233.10 | 1671.50 | 93.425% | 1.105164 |\n",
    "| Limón | 3250.00 | 1626.30 | 99.840% | 1.109771 |\n",
    "| Puerto Viejo Talamanca | 3252.00 | 1671.70 | 94.533% | 1.112171 |\n",
    "|**Promedio diferencias**|||96.25%||"
   ]
  },
  {
   "cell_type": "code",
   "execution_count": 5,
   "metadata": {},
   "outputs": [],
   "source": [
    "iniciar_prueba(temp = 10e9, tasa_enfriamiento = 0.9999)"
   ]
  },
  {
   "cell_type": "markdown",
   "metadata": {},
   "source": [
    "La tercera ejecución el algoritmo se somete una tasa de enfriamento al `0.0001%`, pero esta vez la temperatura pasa a ser de $10^9$ (un millón de veces más alta). \n",
    "\n",
    "| Ciudad   | Costo Inicial | Costo Final   |   Dif   |    Tiempo(sec)    |\n",
    "|----------|---------------|---------------|---------|-------------------|\n",
    "| Liberia | 3449.40 | 1694.70 | 103.540% | 2.235669 |\n",
    "| Santa Cruz | 3452.40 | 1694.70 | 103.717% | 2.244431 |\n",
    "| Nicoya | 3449.40 | 1661.50 | 107.608% | 2.233030 |\n",
    "| Ciudad Quesada | 3243.00 | 1765.90 | 83.646% | 2.204278 |\n",
    "| Alajuela | 3104.20 | 1749.70 | 77.413% | 2.205353 |\n",
    "| Heredia | 3130.80 | 1652.80 | 89.424% | 2.217765 |\n",
    "| Puerto Viejo Sarapiquí | 3015.70 | 1757.20 | 71.620% | 2.219704 |\n",
    "| San José | 3014.90 | 1717.90 | 75.499% | 2.213820 |\n",
    "| San Isidro del General | 3279.10 | 1647.40 | 99.047% | 2.223304 |\n",
    "| Puntarenas | 3268.10 | 1720.80 | 89.917% | 2.228166 |\n",
    "| Quepos | 3309.40 | 1623.60 | 103.831% | 2.231673 |\n",
    "| Golfito | 3341.40 | 1667.10 | 100.432% | 2.240474 |\n",
    "| Cartago | 3224.10 | 1765.50 | 82.617% | 2.227637 |\n",
    "| Turrialba | 3326.10 | 1618.20 | 105.543% | 2.223275 |\n",
    "| Guápiles | 3233.10 | 1914.30 | 68.892% | 2.233230 |\n",
    "| Limón | 3250.00 | 1672.20 | 94.355% | 2.235947 |\n",
    "| Puerto Viejo Talamanca | 3252.00 | 1796.40 | 81.029% | 2.450073 |\n",
    "|**Promedio diferencias**|||90.47%||\n"
   ]
  },
  {
   "cell_type": "code",
   "execution_count": 6,
   "metadata": {},
   "outputs": [],
   "source": [
    "#iniciar_prueba(temp = 10e3, tasa_enfriamiento = 0.999999)"
   ]
  },
  {
   "cell_type": "markdown",
   "metadata": {},
   "source": [
    "La última ejecución es sometida a una tasa de enfriamiento al `0.000001%`, por lo que cabe destacar que su tiempo de ejecución es aproximadamente cincuenta minutos. Los resultados obtenidos se encuentran a continuación:"
   ]
  },
  {
   "cell_type": "markdown",
   "metadata": {},
   "source": [
    "| Ciudad   | Costo Inicial | Costo Final   |   Dif   |    Tiempo(sec)    |\n",
    "|----------|---------------|---------------|---------|-------------------|\n",
    "| Liberia | 3449.40 | 1604.50 | 114.983% | 190.237337 |\n",
    "| Santa Cruz | 3452.40 | 1604.50 | 115.170% | 186.932002 |\n",
    "| Nicoya | 3449.40 | 1632.40 | 111.309% | 174.255203 |\n",
    "| Ciudad Quesada | 3243.00 | 1623.60 | 99.741% | 200.748930 |\n",
    "| Alajuela | 3104.20 | 1670.10 | 85.869% | 190.678209 |\n",
    "| Heredia | 3130.80 | 1670.10 | 87.462% | 180.945495 |\n",
    "| Puerto Viejo Sarapiquí | 3015.70 | 1604.50 | 87.953% | 184.199688 |\n",
    "| San José | 3014.90 | 1648.30 | 82.910% | 182.021388 |\n",
    "| San Isidro del General | 3279.10 | 1604.50 | 104.369% | 194.711354 |\n",
    "| Puntarenas | 3268.10 | 1734.50 | 88.417% | 200.767786 |\n",
    "| Quepos | 3309.40 | 1618.20 | 104.511% | 194.915980 |\n",
    "| Golfito | 3341.40 | 1604.50 | 108.252% | 196.273349 |\n",
    "| Cartago | 3224.10 | 1604.50 | 100.941% | 152.013749 |\n",
    "| Turrialba | 3326.10 | 1623.60 | 104.860% | 146.305386 |\n",
    "| Guápiles | 3233.10 | 1651.10 | 95.815% | 142.112779 |\n",
    "| Limón | 3250.00 | 1620.80 | 100.518% | 140.255657 |\n",
    "| Puerto Viejo Talamanca | 3252.00 | 1618.20 | 100.964% | 140.432908 |\n",
    "|**Promedio diferencias**|||99.64958724353531%||"
   ]
  },
  {
   "cell_type": "markdown",
   "metadata": {},
   "source": [
    "### Análisis de tablas\n",
    "\n",
    "Al haber sometido al algoritmo a las pruebas con distintos parámetros, podemos notar la diferencia considerable entre costos. Para ello podemos considerar la importancia de $t_{e}$ en la ejecución. Las diferentes tablas de parámetros indican que `dif` puede ser mayor a una tasa de enfriamento menor, generando así resultados óptimos de hasta  `costo_inicial/2` o mayor aún, no obstante, se debe considerar que entre ciudades, algunas es el costo inicial es mayor, por lo que la diferencia tiende a cambiar, por ejemplo de un 82% a un 100%, pero se llega a un costo final similar.\n",
    "\n",
    "Con respecto los tiempos, al hablar de tasas más bajas, notamos que los tiempos aumentan hasta en 10 veces mayor entre pruebas o más, sin embargo, aquí es donde podemos distinguir entre cuando el algoritmo toma más tiempo en retornar soluciones pero no las optimiza como la deseamos. Si se observa la ejecución de `iniciar_prueba(temp = 10e9, tasa_enfriamiento = 0.9999)` y `iniciar_prueba(temp = 10e3, tasa_enfriamiento = 0.9999)` las diferencias entre costos son menores pero los tiempos de ejecución son el casi el doble entre ellas por el parámetro de diferencia que es la `temp` entrante.\n",
    "\n",
    "La sección de conclusiones se podran notar las justificaciones necesarias para los comportamientos anteriores y como podría afectar el rendimiento frente a otros algoritmos probabilísticos.\n",
    "\n",
    "Tomar en cuenta que las ejecuciones para generar las tablas fueron en la **pc1**, y la **pc2** le tomó aproximadamente el doble de tiempo en realizar las corridas. \n",
    "\n",
    "#### Experimentación con gráficas\n",
    "\n",
    "Como segunda experimentación al análisis de datos, el costo de las soluciones y en cual iteración se encuentran son los datos a elegir para dar una revisión detallada. Básicamente las pruebas tendrán los mismos parámetros en comparación a las tablas anteriores con la diferencia que la visualización de datos mostrará en que rangos se encuentra la solución en una determinada iteración y la `ciudad_de_inicio` se tomará como San José para no ejecutar todas las ciudades nuevamente. "
   ]
  },
  {
   "cell_type": "code",
   "execution_count": 7,
   "metadata": {},
   "outputs": [],
   "source": [
    "import matplotlib.pyplot as plt\n",
    "import dominio_tsp\n",
    "from simulated_annealing import optimizar\n",
    "from random import seed\n",
    "\n",
    "def __graficar(datos):\n",
    "    xs = datos['Iteraciones']\n",
    "    ys = datos['Fitness(costo ruta)']\n",
    "    plt.plot(xs, ys)\n",
    "    plt.ylabel('Fitness(costo ruta)')\n",
    "    plt.xlabel('Iteración')\n",
    "    plt.show()\n"
   ]
  },
  {
   "cell_type": "code",
   "execution_count": 8,
   "metadata": {},
   "outputs": [
    {
     "data": {
      "image/png": "[encoded data removed]",
      "text/plain": [
       "<Figure size 432x288 with 1 Axes>"
      ]
     },
     "metadata": {
      "needs_background": "light"
     },
     "output_type": "display_data"
    }
   ],
   "source": [
    "seed(42) #Mantener reproducibilidad de experimentos al igual que la prueba anterior\n",
    "dominio_pruebas = dominio_tsp.DominioTSP(\"datos/ciudades_cr.csv\",\"San José\")\n",
    "sol,datos = optimizar(dominio_pruebas,testeo=True)\n",
    "__graficar(datos)"
   ]
  },
  {
   "cell_type": "code",
   "execution_count": 9,
   "metadata": {},
   "outputs": [
    {
     "data": {
      "image/png": "[encoded data removed]",
      "text/plain": [
       "<Figure size 432x288 with 1 Axes>"
      ]
     },
     "metadata": {
      "needs_background": "light"
     },
     "output_type": "display_data"
    }
   ],
   "source": [
    "seed(42)\n",
    "dominio_pruebas = dominio_tsp.DominioTSP(\"datos/ciudades_cr.csv\",\"San José\")\n",
    "sol,datos = optimizar(dominio_pruebas,temp = 10e3, tasa_enfriamiento = 0.9999,testeo=True)\n",
    "__graficar(datos)"
   ]
  },
  {
   "cell_type": "code",
   "execution_count": 10,
   "metadata": {},
   "outputs": [
    {
     "data": {
      "image/png": "[encoded data removed]",
      "text/plain": [
       "<Figure size 432x288 with 1 Axes>"
      ]
     },
     "metadata": {
      "needs_background": "light"
     },
     "output_type": "display_data"
    }
   ],
   "source": [
    "seed(42)\n",
    "dominio_pruebas = dominio_tsp.DominioTSP(\"datos/ciudades_cr.csv\",\"San José\")\n",
    "sol,datos = optimizar(dominio_pruebas,temp = 10e9, tasa_enfriamiento = 0.9999,testeo=True)\n",
    "__graficar(datos)"
   ]
  },
  {
   "cell_type": "markdown",
   "metadata": {},
   "source": [
    "### Análisis de gráficas\n",
    "\n",
    "Revisando las pruebas anteriores, los costos varian en cuanto al algoritmo realiza sus últimas iteraciones, parte de lo que se puede describir al visualizar los datos de esta manera, es que durante las primeras iteraciones los costos van a cambiar mucho y de repente se pueden tomar costos menos óptimos a la solución del problema. Posiblemente esto ocurre para evitar los máximos locales (aunque puede darse que no lo haga), al igual que cuando se toman las últimas iteraciones, los costos bajan a una cantidad considerable y por ello se dan los resultados de diferencia de costos en las tablas.\n",
    "\n",
    "Más adelante para las conclusiones entrarán más a fondo los datos de las iteraciones en comparación con el `algoritmo_genético.py` al igual que costos retorna dicho algoritmo, esto tomando en cuenta que la $t_{e}$ puede jugar un papel importante ya que determina que tanto se pueden llegar a optimizar las soluciones entrantes. "
   ]
  },
  {
   "cell_type": "markdown",
   "metadata": {},
   "source": [
    "### Algoritmo Genético\n",
    "![Genetic](https://www.ewh.ieee.org/soc/es/May2001/14/GAPROC0.GIF)\n",
    "**Imagen brindada por:** https://www.ewh.ieee.org/soc/es/May2001/14/GAPROC0.GIF\n",
    "\n",
    "#### Experimentación con tablas\n",
    "\n",
    "Dentro de las pruebas realizadas al `algoritmo_genetico.py` igualmente se procederá primero a tomar en cuenta las diferencias ente costos iniciales y  finales de todas las ciudades presentes en la matriz de `datos/ciudades_cr.csv`.De manera similar, cabe destacar que los datos son mostrados en pantalla tomando en cuenta la semilla random `seed(42)`.\n"
   ]
  },
  {
   "cell_type": "markdown",
   "metadata": {},
   "source": [
    "### Gráficas\n",
    "Las siguientes gráficas muestran comportamientos del algoritmo genético que resultan interesantes de visualizar\n",
    "\n",
    "En la siguiente gráfica se muestra una ejecución con 200 iteraciones, con población de 400 cromosomas y un 10% de porcentaje de mutación. Además, la semilla de `random`: `seed(42)`"
   ]
  },
  {
   "cell_type": "code",
   "execution_count": 11,
   "metadata": {},
   "outputs": [
    {
     "data": {
      "image/png": "[encoded data removed]",
      "text/plain": [
       "<Figure size 432x288 with 1 Axes>"
      ]
     },
     "metadata": {
      "needs_background": "light"
     },
     "output_type": "display_data"
    }
   ],
   "source": [
    "seed(42)\n",
    "import algoritmo_genetico\n",
    "import dominio_ag_tsp\n",
    "dominio_pruebas = dominio_ag_tsp.DominioAGTSP(\"datos/ciudades_cr.csv\",\"San José\")\n",
    "sol,datos = algoritmo_genetico.optimizar(dominio_pruebas,400,0.1,0.1,200,testeo=True)\n",
    "__graficar(datos)\n"
   ]
  },
  {
   "cell_type": "markdown",
   "metadata": {},
   "source": [
    "En la siguiente gráfica se somete al algoritmo genético con los mismos parámetros de entrada que en la anterior gráfica, pero en este caso `seed(42)` está habilitado."
   ]
  },
  {
   "cell_type": "code",
   "execution_count": 12,
   "metadata": {},
   "outputs": [
    {
     "data": {
      "image/png": "[encoded data removed]",
      "text/plain": [
       "<Figure size 432x288 with 1 Axes>"
      ]
     },
     "metadata": {
      "needs_background": "light"
     },
     "output_type": "display_data"
    }
   ],
   "source": [
    "seed(42)\n",
    "import algoritmo_genetico\n",
    "import dominio_ag_tsp\n",
    "dominio_pruebas = dominio_ag_tsp.DominioAGTSP(\"datos/ciudades_cr.csv\",\"San José\")\n",
    "sol,datos = algoritmo_genetico.optimizar(dominio_pruebas,1000,0.1,0.1,200,testeo=True)\n",
    "__graficar(datos)"
   ]
  },
  {
   "cell_type": "markdown",
   "metadata": {},
   "source": [
    "En la siguiente gráfica se somete al algoritmo genético a parámetros diferentes a las pruebas anteriores: en este caso el porcentaje de mutación es mayor; de un 50%. Además, las iteraciones son aumentadas para mayor visualización."
   ]
  },
  {
   "cell_type": "code",
   "execution_count": 13,
   "metadata": {},
   "outputs": [
    {
     "data": {
      "image/png": "[encoded data removed]",
      "text/plain": [
       "<Figure size 432x288 with 1 Axes>"
      ]
     },
     "metadata": {
      "needs_background": "light"
     },
     "output_type": "display_data"
    }
   ],
   "source": [
    "seed(42)\n",
    "import algoritmo_genetico\n",
    "import dominio_ag_tsp\n",
    "dominio_pruebas = dominio_ag_tsp.DominioAGTSP(\"datos/ciudades_cr.csv\",\"San José\")\n",
    "sol,datos = algoritmo_genetico.optimizar(dominio_pruebas,1000,0.1,0.5,1200,testeo=True)\n",
    "__graficar(datos)"
   ]
  },
  {
   "cell_type": "markdown",
   "metadata": {},
   "source": [
    "En la siguiente gráfica se cambia de ciudad (dominio) y se hacer un acercamieto para ver en cuál punto se estabilizan los resultados de costo de ruta."
   ]
  },
  {
   "cell_type": "code",
   "execution_count": 14,
   "metadata": {},
   "outputs": [
    {
     "data": {
      "image/png": "[encoded data removed]",
      "text/plain": [
       "<Figure size 432x288 with 1 Axes>"
      ]
     },
     "metadata": {
      "needs_background": "light"
     },
     "output_type": "display_data"
    }
   ],
   "source": [
    "seed(42)\n",
    "import algoritmo_genetico\n",
    "import dominio_ag_tsp\n",
    "dominio_pruebas = dominio_ag_tsp.DominioAGTSP(\"datos/ciudades_cr.csv\",\"Liberia\")\n",
    "sol,datos = algoritmo_genetico.optimizar(dominio_pruebas,1000,0.1,0.1,50,testeo=True)\n",
    "__graficar(datos)"
   ]
  },
  {
   "cell_type": "markdown",
   "metadata": {},
   "source": [
    "En la siguiente gráfica se prueba con otra ciudad (Dominio) y se cambia el valor de mutación a uno más intermedio: un 25% de mutación."
   ]
  },
  {
   "cell_type": "code",
   "execution_count": 15,
   "metadata": {},
   "outputs": [
    {
     "data": {
      "image/png": "[encoded data removed]",
      "text/plain": [
       "<Figure size 432x288 with 1 Axes>"
      ]
     },
     "metadata": {
      "needs_background": "light"
     },
     "output_type": "display_data"
    }
   ],
   "source": [
    "seed(42)\n",
    "import algoritmo_genetico\n",
    "import dominio_ag_tsp\n",
    "dominio_pruebas = dominio_ag_tsp.DominioAGTSP(\"datos/ciudades_cr.csv\",\"Alajuela\")\n",
    "sol,datos = algoritmo_genetico.optimizar(dominio_pruebas,1000,0.1,0.25,100,testeo=True)\n",
    "__graficar(datos)"
   ]
  },
  {
   "cell_type": "markdown",
   "metadata": {},
   "source": [
    "## Análisis de Gráficos"
   ]
  },
  {
   "cell_type": "markdown",
   "metadata": {},
   "source": [
    "Al haber sometido al algoritmo a las pruebas con distintos parámetros, podemos notar la diferencia considerable entre costos. Para ello podemos considerar la importancia del porcentaje de mutación y la cantidad de poblacion inicial.\n",
    "\n",
    "Es importante tomar en cuenta que para realizar estos gráficos y las posteriores tablas, el algoritmo genético, solo a la hora de mostrar graficas y tablas, su población final es ordenada mediante el uso de QuickSort para obtener así el mejor hijo de cada poblacion, por lo tanto, en estas graficas se ve el mejor hijo de cada iteración.\n",
    "\n",
    "Dicho lo anterior, se puede notar que hay iteraciones \"desperdiciadas\", cuando el porcentaje de mutación es muy bajo, en este caso de un 10%. \n",
    "\n",
    "En la sección de conclusiones se detallan más los resultados.\n"
   ]
  },
  {
   "cell_type": "markdown",
   "metadata": {},
   "source": [
    "## Tablas\n",
    "En las siguientes tablas se trabaja de igual manera con la semilla random #42, y se van a realizar pruebas de 200 iteraciones cada una, pero intentando hacer énfasis en que la mutación afecta mucho los resultados."
   ]
  },
  {
   "cell_type": "code",
   "execution_count": 16,
   "metadata": {},
   "outputs": [],
   "source": [
    "import dominio_ag_tsp\n",
    "from datos import crear_datos\n",
    "def ListaNombres(nombre_archivo):\n",
    "\tlista = []\n",
    "\tdiccionario,indices = crear_datos(nombre_archivo)\n",
    "\tfor i in diccionario:\n",
    "\t\tlista.append(i['km/min'])\n",
    "\treturn lista\n",
    "def Tabla_Genetico(mutacion = 0.1, poblacion = 1000, iteraciones = 200):\n",
    "    #print('| Ciudad   | Costo Inicial | Costo Final   |    Tiempo(sec)    |')\n",
    "    #print('|----------|---------------|---------------|-------------------|')\n",
    "    Ciudades= ListaNombres('datos/ciudades_cr.csv')\n",
    "    for ciudad in Ciudades:\n",
    "        seed(42) #obtener reproducibilidad de resultados\n",
    "        tiempo_inicio = tiempo_actual() \n",
    "        dominio_pruebas = dominio_ag_tsp.DominioAGTSP(\"datos/ciudades_cr.csv\",ciudad)\n",
    "        sol_final,datos = algoritmo_genetico.optimizar(dominio_pruebas,poblacion,0.1,mutacion,iteraciones,testeo=True)\n",
    "        tiempo_transcurrido = tiempo_actual() - tiempo_inicio\n",
    "        costo_inicial = datos['Fitness(costo ruta)'][0]\n",
    "        costo_final= dominio_pruebas.fcosto(sol_final)\n",
    "        #print('| %s | %.2f | %.2f | %.6f |' % (ciudad, costo_inicial, costo_final, tiempo_transcurrido))"
   ]
  },
  {
   "cell_type": "markdown",
   "metadata": {},
   "source": [
    "En la siguiente tabla, se ven los resultados del algoritmo genético sometido a pruebas de 1000 cromosomas de poblacion inicial con un porcentaje de mutación de 10%."
   ]
  },
  {
   "cell_type": "code",
   "execution_count": 17,
   "metadata": {},
   "outputs": [],
   "source": [
    "Tabla_Genetico(0.1,1000,200)"
   ]
  },
  {
   "cell_type": "markdown",
   "metadata": {},
   "source": [
    "| Ciudad   | Costo Inicial | Costo Final   |    Tiempo(sec)    |\n",
    "|----------|---------------|---------------|-------------------|\n",
    "| Liberia | 3449.40 | 1820.60 | 26.815338 |\n",
    "| Santa Cruz | 3452.40 | 1741.10 | 30.827364 |\n",
    "| Nicoya | 3449.40 | 1632.40 | 28.266532 |\n",
    "| Ciudad Quesada | 3243.00 | 1725.00 | 31.021937 |\n",
    "| Alajuela | 3104.20 | 1728.20 | 30.000225 |\n",
    "| Heredia | 3130.80 | 1770.20 | 32.931054 |\n",
    "| Puerto Viejo Sarapiquí | 3015.70 | 1648.30 | 29.105557 |\n",
    "| San José | 3014.90 | 1711.60 | 33.545656 |\n",
    "| San Isidro del General | 3279.10 | 1833.70 | 31.047919 |\n",
    "| Puntarenas | 3268.10 | 1604.50 | 33.964785 |\n",
    "| Quepos | 3309.40 | 1632.40 | 32.017777 |\n",
    "| Golfito | 3341.40 | 1769.60 | 31.056005 |\n",
    "| Cartago | 3224.10 | 1623.60 | 32.741985 |\n",
    "| Turrialba | 3326.10 | 1711.30 | 30.061906 |\n",
    "| Guápiles | 3233.10 | 1710.70 | 30.212544 |\n",
    "| Limón | 3250.00 | 1825.20 | 29.835746 |\n",
    "| Puerto Viejo Talamanca | 3252.00 | 1846.10 | 33.645910 |\n"
   ]
  },
  {
   "cell_type": "markdown",
   "metadata": {},
   "source": [
    "De manera similar, en la siguiente tabla se ven los resultados del algoritmo genético sometido a pruebas de 1000 cromosomas de poblacion inicial , pero en este caso, con un porcentaje de mutación de 50%."
   ]
  },
  {
   "cell_type": "code",
   "execution_count": 18,
   "metadata": {},
   "outputs": [],
   "source": [
    "Tabla_Genetico(0.5,1000,200)"
   ]
  },
  {
   "cell_type": "markdown",
   "metadata": {},
   "source": [
    "| Ciudad   | Costo Inicial | Costo Final   |    Tiempo(sec)    |\n",
    "|----------|---------------|---------------|-------------------|\n",
    "| Liberia | 3449.40 | 2066.20 | 40.753808 |\n",
    "| Santa Cruz | 3452.40 | 2103.50 | 37.818396 |\n",
    "| Nicoya | 3449.40 | 1974.40 | 36.946438 |\n",
    "| Ciudad Quesada | 3243.00 | 1916.80 | 38.546765 |\n",
    "| Alajuela | 3104.20 | 1973.10 | 38.207842 |\n",
    "| Heredia | 3130.80 | 2246.80 | 37.090047 |\n",
    "| Puerto Viejo Sarapiquí | 3015.70 | 1925.40 | 37.552177 |\n",
    "| San José | 3014.90 | 2051.50 | 37.778783 |\n",
    "| San Isidro del General | 3279.10 | 1987.20 | 39.188711 |\n",
    "| Puntarenas | 3268.10 | 1982.80 | 38.395632 |\n",
    "| Quepos | 3309.40 | 1891.40 | 39.027681 |\n",
    "| Golfito | 3341.40 | 2118.20 | 37.433389 |\n",
    "| Cartago | 3224.10 | 2076.10 | 38.657347 |\n",
    "| Turrialba | 3326.10 | 2111.50 | 36.087658 |\n",
    "| Guápiles | 3233.10 | 1950.20 | 37.831202 |\n",
    "| Limón | 3250.00 | 1980.10 | 38.629417 |\n",
    "| Puerto Viejo Talamanca | 3252.00 | 1998.50 | 36.574516 |"
   ]
  },
  {
   "cell_type": "markdown",
   "metadata": {},
   "source": [
    "## Análisis de Tablas"
   ]
  },
  {
   "cell_type": "markdown",
   "metadata": {},
   "source": [
    "Observando las dos tablas anteriores, se puede observar como el porcentaje de mutación afecta en bastante medida los tiempos de ejecución, ya que al aumentar ese porcentaje hay que aumentar las iteraciones necesarias para obtener un buen resultado. Especificamente con un 10% de mutación y 200 iteraciones(primer cuadro)  se registraron unos 30 segundos en promedio y con 50% de mutación y las mismas iteraciones(segundo), se obtuvieron unos 39seg , por lo que se puede observar promedio de baja en el rendimiento del 130%. Es importante destacar que el número de iteraciones utilizadas pueden cambiar estos resultados."
   ]
  },
  {
   "cell_type": "markdown",
   "metadata": {},
   "source": [
    "## Conclusiones\n",
    "\n",
    "### Simulated Annealing"
   ]
  },
  {
   "cell_type": "markdown",
   "metadata": {},
   "source": [
    "Incluso con ejecuciones largas, puede que no haya una gran variación en la calidad de las soluciones encontradas por las diferentes ejecuciones. Sin embargo, hasta cierto punto, parece ser mejor realizar una ejecución larga que tomar lo mejor de una colección de tiempos de ejecuciones más cortas. Cabe destacar que el algoritmo llega a cierta cantidad de ejecuciones(dependiendo de los parámetros), donde ya realmente los cambios en las soluciones son mínimos o prácticamente nulos."
   ]
  },
  {
   "cell_type": "markdown",
   "metadata": {},
   "source": [
    "Puede que no sea necesario poner temperaturas muy altas(donde se aceptan casi todos los movimientos) en el annealing, se puede iniciar con temperaturas un poco más bajas y denotan mejoras, aunque sean mínimas. Esto se determina con la tabla #2, porque se observa donde las soluciones finales son mejores con una temperatura no tan alta ($10^3$) y una tasa de enfriamiento de `0.9999`, comparada con la tabla #3 la cual tiene una temperatura más alta ($10^9$) y posee la misma tasa de enfriamiento."
   ]
  },
  {
   "cell_type": "markdown",
   "metadata": {},
   "source": [
    "En cuanto a la tasa de enfriamiento entre más se acerque a uno, el tiempo de ejecución del algoritmos va a ser mayor, va a necesitar más cantidad de iteraciones, pero posiblemente como se mencionó anteriormente, es mejor una solución óptima, a tomar lo mejor de una colección de tiempos de ejecuciones más cortas."
   ]
  },
  {
   "cell_type": "markdown",
   "metadata": {},
   "source": [
    "Es importante que la variable p(prob) se obtenga pseudoaleatoriamente de una distribución uniforme porque como se denota en la siguiente imagen, si $p=1$ en todas las comparaciones realizadas (ya que se eligiría de manera no uniforme), siempre va a cambiar y buscará una mejor solución, pero pueda que llegue a un óptimo local y quede estancando. Al contrario sucedería si por ejemplo, se toma como cambio una peor solución con la esperanza de llegar a una solución global y evitar este problema.     "
   ]
  },
  {
   "cell_type": "markdown",
   "metadata": {},
   "source": [
    "![p](https://www.researchgate.net/publication/263548006/figure/fig2/AS:216406227460111@1428606673977/Simulated-annealing-escape-from-local-maximum-solution.png)\n",
    "**Imagen brindada por:** https://www.researchgate.net/figure/Simulated-annealing-escape-from-local-maximum-solution_fig2_263548006"
   ]
  },
  {
   "cell_type": "markdown",
   "metadata": {},
   "source": [
    "Seguidamente de esto podemos considerar que el algoritmo no siempre me garantiza que se vayan a evitar máximos locales, pueden darse ejecuciones muy cortas en las que muy posiblemente se va a dar la condición de que solo se acepten mejores movimientos, por lo que no va a suceder lo que ocurre en la imagen anterior, de aceptar una peor solución para llegar a un máximo global, y que pase algo parecido al algoritmo hill climbing."
   ]
  },
  {
   "cell_type": "markdown",
   "metadata": {},
   "source": [
    "En cuanto a las diferencias de tiempo en las ejecuciones de una computadora a otra, si varian dependiendo de las especificaciones, en nuestro caso, entre más iteraciones hace el algoritmo, la diferencia de tiempo en ejecuciones cada vez es mayor.\n",
    "\n",
    "Finalmente en las diferencias que presenta la solución inicial en comparación con la final, se nota que puede cambiar mínimamente con las ejecuciones más extensas, pero aún así mejora la solución final. Esto se puede observar en las diferentes tablas, entre mayor promedio de diferencia exista, indica que las soluciones finales son óptimas."
   ]
  },
  {
   "cell_type": "markdown",
   "metadata": {},
   "source": [
    "### Algoritmo Genético"
   ]
  },
  {
   "cell_type": "markdown",
   "metadata": {},
   "source": [
    "Con los algoritmos genéticos, se puede observar algo muy interesante, y es lo que se conoce como “convergencia prematura”, esto es  cuando se llega a una solución buena pero no de la mejores, lo que sería un óptimo local, cuando lo que nos interesa es el óptimo global, o un resultado muy cercano al global. Con el problema TSP esto se da cuando se generan rutas muy parecidas entre sí una y otra vez, o sea que hay poca diversidad de cromosomas.\n",
    "    \n",
    "Basándose en las graficas y datos obtenidos se puede observar un comportamiento similar cuando el rango de mutación es muy bajo, por ejemplo un 10%, en estos casos el numero de generaciones(iteraciones ) que se ocupan para llegar a una buena solución es muy bajo. Por lo que se crearon diferentes experimentos para poder observar como se comporta el algoritmo a la hora de modificar diferentes parametros, principalmente el rango de mutación. Por lo que se puede observar que mientras mas grande sea el porcentaje mencionado, mas iteraciones se tendrán que utilizar para llegar a la solución.\n",
    "    \n",
    "También hay que tomar en cuenta el tamaño de la población, o sea el número de cromosomas creados. El comportamiento general que se observo es que entre menos población, más iteraciones se tarda en encontrar la solución, aunque hay que tomar en cuenta la eficiencia, ya que cada vez que la población sube, también sube su tiempo se ejecución.\n",
    "    \n",
    "Por lo que se puede observar la importancia que tienen todas estas variables, diferentes configuraciones modificarán la salida en una u otra medida. Ya sea que nos de un óptimo local, con poco tiempo de ejecución, o valores cercanos al global, pero con un poco mas de poder computacional. Por ultimo es importante recalcar que este algoritmo devuelve una población de soluciones, Pero para esta investigación se recopiló la información del mejor individuo de cada población generada. Para esto se ordeno la población según su función fitnees, por lo que esto afecta el tiempo de ejecución."
   ]
  },
  {
   "cell_type": "markdown",
   "metadata": {},
   "source": [
    "### Conclusiones Generales"
   ]
  },
  {
   "cell_type": "markdown",
   "metadata": {},
   "source": [
    "Observando los cuadros de resolución podemos observar que en ambos algorimos la respuesta obtenida es bastante similar, debemos recordar que estos algoritmos por su naturaleza y por la complegidad del problema no dan una respuesta exacta, es decir no es posible afirmar que la respuesta que estos algoritmos es la respuesta más efectiva en este caso con el problema TSP (Travel Sales Postman) la respuesta que retornan estos algorimos puede o no ser la ruta más corta para todas las ciudades lo que si se puede afirmar es que es una optimización, por lo que que la solución se acerca bastante a la respuesta certera. Tomando esto en cuenta podemos intuir que ambos algoritmos al ser generadores de soluciones óptimas las respuestas deben ser muy similares, más sin embargo no debe ser iguales. \n",
    "\n",
    "\n",
    "Al ver los resultados arrojados por ambos algoritmos, si los comparamos entre si podemos observar que ambos funcionan de una forma sistemáticamente similiar, realizan modificaciones sobre las o la solución para lograr dirigir esta solución hacia la mas óptima. \n",
    "\n",
    "\n",
    "Estos algoritmos ambos tienen una particularidad para funcionar, estos obtienen unos parámetros de entrada los cuales son factores que el algortimo va utilizar para funcionar y para generar la solución. Estos parámetros pueden funcionar como \"perillas\" las cuales son ajustables para que el algoritmo logre evolucionar mejor o con más eficiencia, como podemos observar en el algoritmo genético entre mas alto el porcentaje de mutación más iteraciones va necesitar el algoritmo para funcionar al igual que en simulated annealing, donde entre más temperatura más iteraciones necesita el algoritmo para encontrar una solución óptima. Esto hace que los dos algoritmos sean prácticamente iguales pues generan soluciones similares, y tienden a perder efectividad entre más temperarura o porcentaje de mutación. Entonces, ¿Cuál algoritmo es mejor?\n",
    "\n",
    "Esta pregunta no se puede responder simplemente pues hay que analizar: Cuál algoritmo es mejor para la solución que necesito y esto puede variar según el problema que se tenga.\n",
    "\n",
    "Si bien es cierto ambos algoritmos son similares, existe un gran factor que debemos tomar en cuanta, y es que las iteraciones de cada algoritmo no cuestan lo mismo, el algorimo genético es eficiente con una tasa de interaciones media $0$ y $2500$ apartir de ahí el algoritmo tiende a durar mucho para encontrar la respuesta, sin embargo el simulated annealing empieza a durar mucho cuando las iteraciones son muy altas (miles, millones) por lo cual podemos tomar en cuenta que si necesitamos un algoritmo que se implemente con muchas iteraciones lo mas aconsejable es utilizar el algoritmo simulated annealing.  \n"
   ]
  },
  {
   "cell_type": "markdown",
   "metadata": {},
   "source": [
    "## Bibliografía"
   ]
  },
  {
   "cell_type": "markdown",
   "metadata": {},
   "source": [
    "Estermann, J. (2006) Filosofía andina: Sabiduría indígena para un mundo nuevo. ISEAT.\n",
    "\n",
    "Heineman G.T, Pollice G. & Selkow G. (2009) Algorithms in a nutshell. O’Reilly.\n",
    "\n",
    "Hoefer, C. (2016) “Causal Determinism”, The Stanford Encyclopedia of Philosophy (Spring 2016 Edition),\n",
    "Edward N. Zalta (ed.). Disponible en https://plato.stanford.edu/archives/spr2016/entries/determinism-causal.\n",
    "\n",
    "Knuth, D. (2014) The Art of Computer Programming, Volume 2, The: Seminumerical Algorithms. AddisonWesley.\n",
    "\n",
    "Paar, C. & Pelzl J. (2010) Understanding Cryptography. Springer.\n",
    "\n",
    "Sedgewick, R. & Flajolet, P. (2013) An Introduction to the Analysis of Algorithms Addison-Wesley.\n",
    "\n",
    "Segaran T. (2007) Programming collective intelligence. O’Reilly.\n",
    "\n",
    "\"Travelling Salesman Problem implementation using BackTracking\". GeeksforGeeks. Recuperado de: https://www.geeksforgeeks.org/travelling-salesman-problem-implementation-using-backtracking/\n",
    "\n",
    "Vrajitoru, D. & Knight, W. (2014). Practical Analysis of Algorithms. Springer."
   ]
  }
 ],
 "metadata": {
  "kernelspec": {
   "display_name": "Python 3",
   "language": "python",
   "name": "python3"
  },
  "language_info": {
   "codemirror_mode": {
    "name": "ipython",
    "version": 3
   },
   "file_extension": ".py",
   "mimetype": "text/x-python",
   "name": "python",
   "nbconvert_exporter": "python",
   "pygments_lexer": "ipython3",
   "version": "3.7.3"
  }
 },
 "nbformat": 4,
 "nbformat_minor": 4
}
